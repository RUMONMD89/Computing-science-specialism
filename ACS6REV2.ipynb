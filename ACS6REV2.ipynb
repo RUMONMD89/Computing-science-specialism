{
  "cells": [
    {
      "cell_type": "markdown",
      "metadata": {
        "id": "view-in-github",
        "colab_type": "text"
      },
      "source": [
        "<a href=\"https://colab.research.google.com/github/RUMONMD89/Computing-science-with-Fortran/blob/main/ACS6REV2.ipynb\" target=\"_parent\"><img src=\"https://colab.research.google.com/assets/colab-badge.svg\" alt=\"Open In Colab\"/></a>"
      ]
    },
    {
      "cell_type": "markdown",
      "source": [
        "# 6. Fortran Internal Function / Recursive Function / Subroutine / Module"
      ],
      "metadata": {
        "id": "uASSL0Q6B2B7"
      }
    },
    {
      "cell_type": "code",
      "execution_count": null,
      "metadata": {
        "id": "06k99xeS6dkf",
        "colab": {
          "base_uri": "https://localhost:8080/"
        },
        "outputId": "73bd83da-6470-4a4c-d797-a00878f32b8f"
      },
      "outputs": [
        {
          "output_type": "stream",
          "name": "stdout",
          "text": [
            "Drive already mounted at /content/drive; to attempt to forcibly remount, call drive.mount(\"/content/drive\", force_remount=True).\n",
            "/content/drive/MyDrive/FORTRAN\n"
          ]
        }
      ],
      "source": [
        "from google.colab import drive\n",
        "drive.mount('/content/drive')\n",
        "!mkdir -p /content/drive/MyDrive/FORTRAN\n",
        "%cd /content/drive/MyDrive/FORTRAN"
      ]
    },
    {
      "cell_type": "markdown",
      "source": [
        "##6-1. Fortran Internal Function"
      ],
      "metadata": {
        "id": "bXkpXC8b42v7"
      }
    },
    {
      "cell_type": "code",
      "execution_count": null,
      "metadata": {
        "id": "DWV4f4in7IlT",
        "colab": {
          "base_uri": "https://localhost:8080/"
        },
        "outputId": "2f90289c-b733-4f84-d99d-bdab12eeff9a"
      },
      "outputs": [
        {
          "output_type": "stream",
          "name": "stdout",
          "text": [
            "Overwriting ACS6_InternalFunction.f03\n"
          ]
        }
      ],
      "source": [
        "%%writefile ACS6_InternalFunction.f03\n",
        "program main\n",
        "  implicit none\n",
        "  integer           :: i, j, kg\n",
        "\n",
        "! Internal Function\n",
        "  i = 1\n",
        "  kg = 2\n",
        "  j = ifunc(i)\n",
        "  write(*,*) \"i=\",i,\"j=\",j\n",
        "\n",
        "contains\n",
        "\n",
        "  integer function ifunc(i) result(lj)\n",
        "    integer, intent(in) :: i\n",
        "    integer             :: lj\n",
        "    lj = i + kg         ! Global variable\n",
        "  end function ifunc\n",
        "\n",
        "end program main"
      ]
    },
    {
      "cell_type": "code",
      "execution_count": null,
      "metadata": {
        "id": "unUfiabP7Rcp",
        "colab": {
          "base_uri": "https://localhost:8080/"
        },
        "outputId": "11e1d513-a303-4127-ed78-e448cdb55063"
      },
      "outputs": [
        {
          "output_type": "stream",
          "name": "stdout",
          "text": [
            "\u001b[01m\u001b[KACS6_InternalFunction.f03:15:29:\u001b[m\u001b[K\n",
            "\n",
            "     integer             :: lj\n",
            "                             \u001b[01;31m\u001b[K1\u001b[m\u001b[K\n",
            "\u001b[01;31m\u001b[KError:\u001b[m\u001b[K Symbol ‘\u001b[01m\u001b[Klj\u001b[m\u001b[K’ at (1) already has basic type of INTEGER\n",
            " i=           1 j=           3\n"
          ]
        }
      ],
      "source": [
        "DEBUG=0\n",
        "EXE=\"ACS6_InternalFunction\"\n",
        "if DEBUG == 0:\n",
        "  !gfortran {EXE}.f03 -o ./{EXE}.out\n",
        "  !./{EXE}.out\n",
        "else:\n",
        "  !sudo apt install gdb\n",
        "  !gfortran {EXE}.f03 -o ./{EXE}.out -g\n",
        "  !echo \"run\" | gdb ./{EXE}.out"
      ]
    },
    {
      "cell_type": "markdown",
      "source": [
        "##6-2. Internal Recursive Function\n",
        "\n"
      ],
      "metadata": {
        "id": "H7GyWyjGWN8Q"
      }
    },
    {
      "cell_type": "code",
      "source": [
        "%%writefile ACS6_InternalRecursiveFunction.f03\n",
        "program main\n",
        "  implicit none\n",
        "  integer           :: i, j, kg\n",
        "\n",
        "! Internal Function\n",
        "  i  = 10\n",
        "  kg = 1\n",
        "  j  = rfunc(i)\n",
        "  write(*,*) \"i=\",i,\"j=\",j\n",
        "\n",
        "contains\n",
        "\n",
        "  recursive function rfunc(i) result(lj)\n",
        "    integer :: i, lj\n",
        "    if(i <= 1) then\n",
        "      lj = kg               ! Global variable\n",
        "    else\n",
        "      lj = rfunc(i-1)*i\n",
        "    end if\n",
        "  end function rfunc\n",
        "\n",
        "end program main"
      ],
      "metadata": {
        "id": "OxC9jqyEWXJK",
        "colab": {
          "base_uri": "https://localhost:8080/"
        },
        "outputId": "ca40c477-07c9-45ee-83e6-c61249f06723"
      },
      "execution_count": null,
      "outputs": [
        {
          "output_type": "stream",
          "name": "stdout",
          "text": [
            "Overwriting ACS6_InternalRecursiveFunction.f03\n"
          ]
        }
      ]
    },
    {
      "cell_type": "code",
      "source": [
        "DEBUG=0\n",
        "EXE=\"ACS6_InternalRecursiveFunction\"\n",
        "if DEBUG == 0:\n",
        "  !gfortran {EXE}.f03 -o ./{EXE}.out\n",
        "  !./{EXE}.out\n",
        "else:\n",
        "  !sudo apt install gdb\n",
        "  !gfortran {EXE}.f03 -o ./{EXE}.out -g\n",
        "  !echo \"run\" | gdb ./{EXE}.out"
      ],
      "metadata": {
        "id": "2AnNszKAWX9I",
        "colab": {
          "base_uri": "https://localhost:8080/"
        },
        "outputId": "fb1308ce-d51a-4042-bb5b-27fe3573b94b"
      },
      "execution_count": null,
      "outputs": [
        {
          "output_type": "stream",
          "name": "stdout",
          "text": [
            " i=          10 j=     3628800\n"
          ]
        }
      ]
    },
    {
      "cell_type": "markdown",
      "source": [
        "##6-3. Internal Subroutine"
      ],
      "metadata": {
        "id": "LCJzQXz030Gv"
      }
    },
    {
      "cell_type": "code",
      "source": [
        "%%writefile ACS6_InternalSubroutine.f03\n",
        "program main\n",
        "  implicit none\n",
        "  integer           :: i, jg, kg\n",
        "\n",
        "! Internal Subroutine\n",
        "  i  = 1\n",
        "  kg = 2\n",
        "  call isub(i)\n",
        "  write(*,*) \"i=\",i,\"jg=\",jg\n",
        "\n",
        "contains\n",
        "\n",
        "  subroutine isub(i)\n",
        "    integer, intent(inout) :: i\n",
        "    jg = kg*i\n",
        "  end subroutine isub\n",
        "\n",
        "end program main"
      ],
      "metadata": {
        "id": "1qdgF0HB33uh",
        "colab": {
          "base_uri": "https://localhost:8080/"
        },
        "outputId": "4001cbfc-75c3-41b1-ccd8-fd0529b89993"
      },
      "execution_count": null,
      "outputs": [
        {
          "output_type": "stream",
          "name": "stdout",
          "text": [
            "Overwriting ACS6_InternalSubroutine.f03\n"
          ]
        }
      ]
    },
    {
      "cell_type": "code",
      "source": [
        "DEBUG=0\n",
        "EXE=\"ACS6_InternalSubroutine\"\n",
        "if DEBUG == 0:\n",
        "  !gfortran {EXE}.f03 -o ./{EXE}.out\n",
        "  !./{EXE}.out\n",
        "else:\n",
        "  !sudo apt install gdb\n",
        "  !gfortran {EXE}.f03 -o ./{EXE}.out -g\n",
        "  !echo \"run\" | gdb ./{EXE}.out"
      ],
      "metadata": {
        "id": "5Tv5h9l54F2a",
        "colab": {
          "base_uri": "https://localhost:8080/"
        },
        "outputId": "666c04b5-05c6-4375-c49b-735bfc11968a"
      },
      "execution_count": null,
      "outputs": [
        {
          "output_type": "stream",
          "name": "stdout",
          "text": [
            " i=           1 jg=           2\n"
          ]
        }
      ]
    },
    {
      "cell_type": "markdown",
      "source": [
        "##6-4. Fortran Module"
      ],
      "metadata": {
        "id": "0fvTWAWKXT5_"
      }
    },
    {
      "cell_type": "code",
      "source": [
        "%%writefile ACS6_Module.f03\n",
        "module mod\n",
        "  ! Structure (Class)\n",
        "  integer, public  :: i, j, k\n",
        "  integer, private :: jp\n",
        "\n",
        "  contains\n",
        "\n",
        "  ! Member function\n",
        "  integer function mod_func(i)\n",
        "    mod_func = 2*i\n",
        "  end function mod_func\n",
        "\n",
        "  subroutine mod_sub(j, k)\n",
        "    jp = j+1\n",
        "    k  = jp\n",
        "  end subroutine mod_sub\n",
        "end module mod\n",
        "\n",
        "\n",
        "program main\n",
        "  use mod, only : i, j, mod_func, mod_sub\n",
        "  implicit none\n",
        "  integer :: m\n",
        "\n",
        "  i = 1\n",
        "  j = mod_func(i)\n",
        "  write(*,*) \"i=\",i, \"j=\",j\n",
        "\n",
        "  call mod_sub(j,m)\n",
        "  write(*,*) \"j=\",j, \"m=\",m\n",
        "\n",
        "end program main"
      ],
      "metadata": {
        "id": "wpMNF_NvXXmu",
        "colab": {
          "base_uri": "https://localhost:8080/"
        },
        "outputId": "9c4d3ad9-8a6d-44b0-8d4c-be48bb8fbf7e"
      },
      "execution_count": null,
      "outputs": [
        {
          "output_type": "stream",
          "name": "stdout",
          "text": [
            "Overwriting ACS6_Module.f03\n"
          ]
        }
      ]
    },
    {
      "cell_type": "code",
      "source": [
        "DEBUG=0\n",
        "EXE=\"ACS6_Module\"\n",
        "if DEBUG == 0:\n",
        "  !gfortran {EXE}.f03 -o ./{EXE}.out\n",
        "  !./{EXE}.out\n",
        "else:\n",
        "  !sudo apt install gdb\n",
        "  !gfortran {EXE}.f03 -o ./{EXE}.out -g\n",
        "  !echo \"run\" | gdb ./{EXE}.out"
      ],
      "metadata": {
        "id": "QJOphr4WXYMY",
        "colab": {
          "base_uri": "https://localhost:8080/"
        },
        "outputId": "d05f86f6-35ea-456a-bcc4-90abe26eb4e5"
      },
      "execution_count": null,
      "outputs": [
        {
          "output_type": "stream",
          "name": "stdout",
          "text": [
            " i=           1 j=           2\n",
            " j=           2 m=           3\n"
          ]
        }
      ]
    }
  ],
  "metadata": {
    "colab": {
      "provenance": [],
      "include_colab_link": true
    },
    "gpuClass": "standard",
    "kernelspec": {
      "display_name": "Python 3",
      "name": "python3"
    },
    "language_info": {
      "name": "python"
    }
  },
  "nbformat": 4,
  "nbformat_minor": 0
}