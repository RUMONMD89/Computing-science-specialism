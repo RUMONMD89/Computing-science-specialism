{
  "nbformat": 4,
  "nbformat_minor": 0,
  "metadata": {
    "colab": {
      "provenance": [],
      "include_colab_link": true
    },
    "kernelspec": {
      "name": "python3",
      "display_name": "Python 3"
    },
    "language_info": {
      "name": "python"
    },
    "gpuClass": "standard",
    "accelerator": "GPU"
  },
  "cells": [
    {
      "cell_type": "markdown",
      "metadata": {
        "id": "view-in-github",
        "colab_type": "text"
      },
      "source": [
        "<a href=\"https://colab.research.google.com/github/RUMONMD89/Computing-science-with-Fortran/blob/main/ACS15.ipynb\" target=\"_parent\"><img src=\"https://colab.research.google.com/assets/colab-badge.svg\" alt=\"Open In Colab\"/></a>"
      ]
    },
    {
      "cell_type": "code",
      "execution_count": 1,
      "metadata": {
        "id": "06k99xeS6dkf",
        "colab": {
          "base_uri": "https://localhost:8080/"
        },
        "outputId": "b5393d25-5dae-4245-caea-d381c7bb4166"
      },
      "outputs": [
        {
          "output_type": "stream",
          "name": "stdout",
          "text": [
            "Mounted at /content/drive\n",
            "/content/drive/MyDrive/FORTRAN\n"
          ]
        }
      ],
      "source": [
        "from google.colab import drive\n",
        "drive.mount('/content/drive')\n",
        "%cd /content/drive/MyDrive/FORTRAN"
      ]
    },
    {
      "cell_type": "markdown",
      "source": [
        "#MPI"
      ],
      "metadata": {
        "id": "8J4LEAoaHqAB"
      }
    },
    {
      "cell_type": "code",
      "source": [
        "%%writefile MPI.f03\n",
        "! Sample program of Messge Passing Interface (MPI)\n",
        "! For simplicity, data is not split (only calculation is split)\n",
        "program main\n",
        "  use mpi\n",
        "  implicit none\n",
        "  integer, parameter :: IDIM=100\n",
        "  double precision   :: a(IDIM), x(IDIM), b, c, aa(IDIM)\n",
        "  integer            :: ista, iend, i, ndim\n",
        "  integer            :: ierr, nprocs, myrank\n",
        "!\n",
        "  a(:)  = 0.0d0\n",
        "  aa(:) = 0.0d0\n",
        "  x(:)  = 1.0d0\n",
        "  b     = 2.0d0\n",
        "  c     = 3.0d0\n",
        "!\n",
        "  call MPI_Init(ierr)\n",
        "  call MPI_Comm_Size(MPI_COMM_WORLD, nprocs, ierr)\n",
        "  call MPI_Comm_Rank(MPI_COMM_WORLD, myrank, ierr)\n",
        "!\n",
        "! Set the range of index\n",
        "  ndim = IDIM/nprocs\n",
        "  ista = 1 + myrank*ndim\n",
        "  iend = ista + ndim - 1\n",
        "!\n",
        "  write(*,*) \"myrank=\",myrank,\"ista=\",ista,\" iend=\",iend\n",
        "!\n",
        "  do i = ista, iend\n",
        "    a(i) = b*x(i) + c\n",
        "  enddo\n",
        "!\n",
        "  call MPI_Allreduce(a, aa, IDIM, MPI_DOUBLE_PRECISION, &\n",
        " &   MPI_MAX, MPI_COMM_WORLD, ierr)\n",
        "!\n",
        "  if(myrank == 0) then\n",
        "    write(*,*) \"aa(:)=\",aa(:)\n",
        "  endif\n",
        "!\n",
        "  call MPI_Barrier(MPI_COMM_WORLD, ierr)\n",
        "  call MPI_Finalize(ierr)\n",
        "end program main"
      ],
      "metadata": {
        "id": "DWV4f4in7IlT",
        "colab": {
          "base_uri": "https://localhost:8080/"
        },
        "outputId": "fe2d5c94-c7b2-41a7-e802-c84afec17928"
      },
      "execution_count": 2,
      "outputs": [
        {
          "output_type": "stream",
          "name": "stdout",
          "text": [
            "Writing MPI.f03\n"
          ]
        }
      ]
    },
    {
      "cell_type": "code",
      "source": [
        "EXE=\"MPI\"\n",
        "OMPI_ALLOW_RUN_AS_ROOT=1\n",
        "OMPI_ALLOW_RUN_AS_ROOT_CONFIRM=1\n",
        "\n",
        "!mpif90 {EXE}.f03 -o ./{EXE}.out\n",
        "!mpirun --allow-run-as-root --oversubscribe -np 2 ./{EXE}.out"
      ],
      "metadata": {
        "id": "unUfiabP7Rcp",
        "colab": {
          "base_uri": "https://localhost:8080/"
        },
        "outputId": "5d240de0-3a59-486a-9ce3-abbb037f7bbd"
      },
      "execution_count": 3,
      "outputs": [
        {
          "output_type": "stream",
          "name": "stdout",
          "text": [
            " myrank=           1 ista=          51  iend=         100\n",
            " myrank=           0 ista=           1  iend=          50\n",
            " aa(:)=   5.0000000000000000        5.0000000000000000        5.0000000000000000        5.0000000000000000        5.0000000000000000        5.0000000000000000        5.0000000000000000        5.0000000000000000        5.0000000000000000        5.0000000000000000        5.0000000000000000        5.0000000000000000        5.0000000000000000        5.0000000000000000        5.0000000000000000        5.0000000000000000        5.0000000000000000        5.0000000000000000        5.0000000000000000        5.0000000000000000        5.0000000000000000        5.0000000000000000        5.0000000000000000        5.0000000000000000        5.0000000000000000        5.0000000000000000        5.0000000000000000        5.0000000000000000        5.0000000000000000        5.0000000000000000        5.0000000000000000        5.0000000000000000        5.0000000000000000        5.0000000000000000        5.0000000000000000        5.0000000000000000        5.0000000000000000        5.0000000000000000        5.0000000000000000        5.0000000000000000        5.0000000000000000        5.0000000000000000        5.0000000000000000        5.0000000000000000        5.0000000000000000        5.0000000000000000        5.0000000000000000        5.0000000000000000        5.0000000000000000        5.0000000000000000        5.0000000000000000        5.0000000000000000        5.0000000000000000        5.0000000000000000        5.0000000000000000        5.0000000000000000        5.0000000000000000        5.0000000000000000        5.0000000000000000        5.0000000000000000        5.0000000000000000        5.0000000000000000        5.0000000000000000        5.0000000000000000        5.0000000000000000        5.0000000000000000        5.0000000000000000        5.0000000000000000        5.0000000000000000        5.0000000000000000        5.0000000000000000        5.0000000000000000        5.0000000000000000        5.0000000000000000        5.0000000000000000        5.0000000000000000        5.0000000000000000        5.0000000000000000        5.0000000000000000        5.0000000000000000        5.0000000000000000        5.0000000000000000        5.0000000000000000        5.0000000000000000        5.0000000000000000        5.0000000000000000        5.0000000000000000        5.0000000000000000        5.0000000000000000        5.0000000000000000        5.0000000000000000        5.0000000000000000        5.0000000000000000        5.0000000000000000        5.0000000000000000        5.0000000000000000        5.0000000000000000        5.0000000000000000        5.0000000000000000        5.0000000000000000     \n"
          ]
        }
      ]
    },
    {
      "cell_type": "markdown",
      "source": [
        "#OpenMP"
      ],
      "metadata": {
        "id": "d150hx0-HyW6"
      }
    },
    {
      "cell_type": "code",
      "source": [
        "%%writefile OpenMP.f03\n",
        "! Sample program of OpenMP\n",
        "program main\n",
        "  use omp_lib\n",
        "  implicit none\n",
        "  integer, parameter :: IDIM=100\n",
        "  double precision   :: a(IDIM), x(IDIM), b, c\n",
        "  integer            :: i\n",
        "  integer            :: numthread, ithread\n",
        "!\n",
        "  a(:)  = 0.0d0\n",
        "  x(:)  = 1.0d0\n",
        "  b     = 2.0d0\n",
        "  c     = 3.0d0\n",
        "!\n",
        "! Get number of threads\n",
        "  numthread = omp_get_max_threads()\n",
        "  ithread   = omp_get_thread_num()\n",
        "  write(*,*) \"ithread=\",ithread,\"numthread=\",numthread\n",
        "!\n",
        "!$OMP Parallel Default(shared)\n",
        "!$OMP Do\n",
        "  do i = 1, IDIM\n",
        "    a(i) = b*x(i) + c\n",
        "  enddo\n",
        "!$OMP End Parallel\n",
        "!\n",
        "  write(*,*) \"a(:)=\",a(:)\n",
        "!\n",
        "end program main"
      ],
      "metadata": {
        "id": "a5HXV-ckHx2F",
        "colab": {
          "base_uri": "https://localhost:8080/"
        },
        "outputId": "423c1c5e-a2f7-4c9e-e452-e05e0414ca2f"
      },
      "execution_count": 4,
      "outputs": [
        {
          "output_type": "stream",
          "name": "stdout",
          "text": [
            "Writing OpenMP.f03\n"
          ]
        }
      ]
    },
    {
      "cell_type": "code",
      "source": [
        "EXE=\"OpenMP\"\n",
        "OMP_NUM_THREADS=2\n",
        "\n",
        "!gfortran {EXE}.f03 -fopenmp -o ./{EXE}.out\n",
        "!./{EXE}.out"
      ],
      "metadata": {
        "id": "GRqGTeXHIgoA",
        "colab": {
          "base_uri": "https://localhost:8080/"
        },
        "outputId": "65d25877-2c98-4274-b6ad-1cb8776c184f"
      },
      "execution_count": 5,
      "outputs": [
        {
          "output_type": "stream",
          "name": "stdout",
          "text": [
            " ithread=           0 numthread=           2\n",
            " a(:)=   5.0000000000000000        5.0000000000000000        5.0000000000000000        5.0000000000000000        5.0000000000000000        5.0000000000000000        5.0000000000000000        5.0000000000000000        5.0000000000000000        5.0000000000000000        5.0000000000000000        5.0000000000000000        5.0000000000000000        5.0000000000000000        5.0000000000000000        5.0000000000000000        5.0000000000000000        5.0000000000000000        5.0000000000000000        5.0000000000000000        5.0000000000000000        5.0000000000000000        5.0000000000000000        5.0000000000000000        5.0000000000000000        5.0000000000000000        5.0000000000000000        5.0000000000000000        5.0000000000000000        5.0000000000000000        5.0000000000000000        5.0000000000000000        5.0000000000000000        5.0000000000000000        5.0000000000000000        5.0000000000000000        5.0000000000000000        5.0000000000000000        5.0000000000000000        5.0000000000000000        5.0000000000000000        5.0000000000000000        5.0000000000000000        5.0000000000000000        5.0000000000000000        5.0000000000000000        5.0000000000000000        5.0000000000000000        5.0000000000000000        5.0000000000000000        5.0000000000000000        5.0000000000000000        5.0000000000000000        5.0000000000000000        5.0000000000000000        5.0000000000000000        5.0000000000000000        5.0000000000000000        5.0000000000000000        5.0000000000000000        5.0000000000000000        5.0000000000000000        5.0000000000000000        5.0000000000000000        5.0000000000000000        5.0000000000000000        5.0000000000000000        5.0000000000000000        5.0000000000000000        5.0000000000000000        5.0000000000000000        5.0000000000000000        5.0000000000000000        5.0000000000000000        5.0000000000000000        5.0000000000000000        5.0000000000000000        5.0000000000000000        5.0000000000000000        5.0000000000000000        5.0000000000000000        5.0000000000000000        5.0000000000000000        5.0000000000000000        5.0000000000000000        5.0000000000000000        5.0000000000000000        5.0000000000000000        5.0000000000000000        5.0000000000000000        5.0000000000000000        5.0000000000000000        5.0000000000000000        5.0000000000000000        5.0000000000000000        5.0000000000000000        5.0000000000000000        5.0000000000000000        5.0000000000000000        5.0000000000000000     \n"
          ]
        }
      ]
    },
    {
      "cell_type": "markdown",
      "source": [
        "#OpenACC"
      ],
      "metadata": {
        "id": "V1bIdtLiK5Hv"
      }
    },
    {
      "cell_type": "code",
      "source": [
        "%%writefile OpenACC.f03\n",
        "! Sample program of OpenMP\n",
        "program main\n",
        "  use omp_lib\n",
        "  implicit none\n",
        "  integer, parameter :: IDIM=100\n",
        "  double precision   :: a(IDIM), x(IDIM), b, c\n",
        "  integer            :: i\n",
        "  integer            :: numthread, ithread\n",
        "!\n",
        "  a(:)  = 0.0d0\n",
        "  x(:)  = 1.0d0\n",
        "  b     = 2.0d0\n",
        "  c     = 3.0d0\n",
        "!\n",
        "! Get number of threads\n",
        "  numthread = omp_get_max_threads()\n",
        "  ithread   = omp_get_thread_num()\n",
        "  write(*,*) \"ithread=\",ithread,\"numthread=\",numthread\n",
        "!\n",
        "!$acc kernels copy(a) copyin(b,x,c)\n",
        "!$acc loop private(i)\n",
        "  do i = 1, IDIM\n",
        "    a(i) = b*x(i) + c\n",
        "  enddo\n",
        "!$acc end kernels\n",
        "!\n",
        "  write(*,*) \"a(:)=\",a(:)\n",
        "!\n",
        "end program main"
      ],
      "metadata": {
        "id": "r3ffIuwUK-X2",
        "colab": {
          "base_uri": "https://localhost:8080/"
        },
        "outputId": "d60fdf7b-3256-429b-d7aa-326a51bd906d"
      },
      "execution_count": 6,
      "outputs": [
        {
          "output_type": "stream",
          "name": "stdout",
          "text": [
            "Writing OpenACC.f03\n"
          ]
        }
      ]
    },
    {
      "cell_type": "code",
      "source": [
        "EXE=\"OpenACC\"\n",
        "\n",
        "!gfortran {EXE}.f03 -fopenacc -o ./{EXE}.out\n",
        "!./{EXE}.out"
      ],
      "metadata": {
        "id": "3wsdOFYvNISK",
        "colab": {
          "base_uri": "https://localhost:8080/"
        },
        "outputId": "c1a056f4-2ae0-46bc-ba1a-80c9215b32c3"
      },
      "execution_count": 7,
      "outputs": [
        {
          "output_type": "stream",
          "name": "stdout",
          "text": [
            " ithread=           0 numthread=           2\n",
            " a(:)=   5.0000000000000000        5.0000000000000000        5.0000000000000000        5.0000000000000000        5.0000000000000000        5.0000000000000000        5.0000000000000000        5.0000000000000000        5.0000000000000000        5.0000000000000000        5.0000000000000000        5.0000000000000000        5.0000000000000000        5.0000000000000000        5.0000000000000000        5.0000000000000000        5.0000000000000000        5.0000000000000000        5.0000000000000000        5.0000000000000000        5.0000000000000000        5.0000000000000000        5.0000000000000000        5.0000000000000000        5.0000000000000000        5.0000000000000000        5.0000000000000000        5.0000000000000000        5.0000000000000000        5.0000000000000000        5.0000000000000000        5.0000000000000000        5.0000000000000000        5.0000000000000000        5.0000000000000000        5.0000000000000000        5.0000000000000000        5.0000000000000000        5.0000000000000000        5.0000000000000000        5.0000000000000000        5.0000000000000000        5.0000000000000000        5.0000000000000000        5.0000000000000000        5.0000000000000000        5.0000000000000000        5.0000000000000000        5.0000000000000000        5.0000000000000000        5.0000000000000000        5.0000000000000000        5.0000000000000000        5.0000000000000000        5.0000000000000000        5.0000000000000000        5.0000000000000000        5.0000000000000000        5.0000000000000000        5.0000000000000000        5.0000000000000000        5.0000000000000000        5.0000000000000000        5.0000000000000000        5.0000000000000000        5.0000000000000000        5.0000000000000000        5.0000000000000000        5.0000000000000000        5.0000000000000000        5.0000000000000000        5.0000000000000000        5.0000000000000000        5.0000000000000000        5.0000000000000000        5.0000000000000000        5.0000000000000000        5.0000000000000000        5.0000000000000000        5.0000000000000000        5.0000000000000000        5.0000000000000000        5.0000000000000000        5.0000000000000000        5.0000000000000000        5.0000000000000000        5.0000000000000000        5.0000000000000000        5.0000000000000000        5.0000000000000000        5.0000000000000000        5.0000000000000000        5.0000000000000000        5.0000000000000000        5.0000000000000000        5.0000000000000000        5.0000000000000000        5.0000000000000000        5.0000000000000000        5.0000000000000000     \n"
          ]
        }
      ]
    }
  ]
}