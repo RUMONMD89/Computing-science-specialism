{
  "cells": [
    {
      "cell_type": "markdown",
      "metadata": {
        "id": "view-in-github",
        "colab_type": "text"
      },
      "source": [
        "<a href=\"https://colab.research.google.com/github/RUMONMD89/Computing-science-with-Fortran/blob/main/ACS4REV.ipynb\" target=\"_parent\"><img src=\"https://colab.research.google.com/assets/colab-badge.svg\" alt=\"Open In Colab\"/></a>"
      ]
    },
    {
      "cell_type": "markdown",
      "source": [
        "# 4. Fortran Conditional Branch / Iteration"
      ],
      "metadata": {
        "id": "uASSL0Q6B2B7"
      }
    },
    {
      "cell_type": "code",
      "execution_count": 2,
      "metadata": {
        "colab": {
          "base_uri": "https://localhost:8080/"
        },
        "id": "06k99xeS6dkf",
        "outputId": "f579e2c2-b425-481a-8dc2-ffb251e28c4e"
      },
      "outputs": [
        {
          "output_type": "stream",
          "name": "stdout",
          "text": [
            "Mounted at /content/drive\n",
            "/content/drive/MyDrive/FORTRAN\n"
          ]
        }
      ],
      "source": [
        "from google.colab import drive\n",
        "drive.mount('/content/drive')\n",
        "!mkdir -p /content/drive/MyDrive/FORTRAN\n",
        "%cd /content/drive/MyDrive/FORTRAN"
      ]
    },
    {
      "cell_type": "markdown",
      "source": [
        "##4-1. Fortran Conditional Branch"
      ],
      "metadata": {
        "id": "bXkpXC8b42v7"
      }
    },
    {
      "cell_type": "code",
      "execution_count": 3,
      "metadata": {
        "colab": {
          "base_uri": "https://localhost:8080/"
        },
        "id": "DWV4f4in7IlT",
        "outputId": "93698af2-2424-426f-b267-fbaecf5f1c41"
      },
      "outputs": [
        {
          "output_type": "stream",
          "name": "stdout",
          "text": [
            "Writing ACS4_IfSelect.f03\n"
          ]
        }
      ],
      "source": [
        "%%writefile ACS4_IfSelect.f03\n",
        "program main\n",
        "  implicit none\n",
        "  integer :: i, j\n",
        "\n",
        "  i = 2\n",
        "  j = 2\n",
        "! If Branch\n",
        "  if(i == j) then\n",
        "     write(*,*) \"i=j\"\n",
        "  else\n",
        "     write(*,*) \"i!=j\"\n",
        "  end if\n",
        "\n",
        "! Select Case\n",
        "  select case(i)\n",
        "     case(1)\n",
        "        write(*,*) \"i=1\"\n",
        "     case(2)\n",
        "        write(*,*) \"i=2\"\n",
        "     case default\n",
        "        write(*,*) \"i!=1 .and. i!=2\"\n",
        "  end select\n",
        "\n",
        "end program main"
      ]
    },
    {
      "cell_type": "code",
      "execution_count": 4,
      "metadata": {
        "colab": {
          "base_uri": "https://localhost:8080/"
        },
        "id": "unUfiabP7Rcp",
        "outputId": "984a4c3d-b30a-44fc-8020-d3807135816c"
      },
      "outputs": [
        {
          "output_type": "stream",
          "name": "stdout",
          "text": [
            " i=j\n",
            " i=2\n"
          ]
        }
      ],
      "source": [
        "DEBUG=0\n",
        "EXE=\"ACS4_IfSelect\"\n",
        "if DEBUG == 0:\n",
        "  !gfortran {EXE}.f03 -o ./{EXE}.out\n",
        "  !./{EXE}.out\n",
        "else:\n",
        "  !sudo apt install gdb\n",
        "  !gfortran {EXE}.f03 -o ./{EXE}.out -g\n",
        "  !echo \"run\" | gdb ./{EXE}.out"
      ]
    },
    {
      "cell_type": "markdown",
      "source": [
        "##4-2. Fortran Iteration"
      ],
      "metadata": {
        "id": "WDbyCcot487c"
      }
    },
    {
      "cell_type": "code",
      "source": [
        "%%writefile ACS4_DoWhile.f03\n",
        "program main\n",
        "  implicit none\n",
        "  integer :: i, j, k, m, n\n",
        "\n",
        "\n",
        "! Do\n",
        "  j = 0\n",
        "  do i = 1, 10, 1\n",
        "    j = j + i\n",
        "  end do\n",
        "  write(*,*) \"j=\",j\n",
        "\n",
        "\n",
        "! Do while\n",
        "  i = 1\n",
        "  k = 0\n",
        "  do while(i <= 10)\n",
        "    k = k + i\n",
        "    i = i + 1\n",
        "  end do\n",
        "  write(*,*) \"k=\",k\n",
        "\n",
        "\n",
        "! Cycle\n",
        "  m = 0\n",
        "  do i = 1, 10, 1\n",
        "    if(mod(i,2) == 1) cycle\n",
        "    m = m + i\n",
        "  end do\n",
        "  write(*,*) \"m=\",m\n",
        "\n",
        "\n",
        "! Exit\n",
        "  n = 0\n",
        "  do i = 1, 10, 1\n",
        "     if(i >= 5) exit\n",
        "     n = n + i\n",
        "  end do\n",
        "  write(*,*) \"n=\",n\n",
        "end program main"
      ],
      "metadata": {
        "colab": {
          "base_uri": "https://localhost:8080/"
        },
        "id": "84HLgxhJwWrX",
        "outputId": "df9bd0ab-4732-40fd-f2e0-6171d645e58f"
      },
      "execution_count": 5,
      "outputs": [
        {
          "output_type": "stream",
          "name": "stdout",
          "text": [
            "Writing ACS4_DoWhile.f03\n"
          ]
        }
      ]
    },
    {
      "cell_type": "code",
      "source": [
        "DEBUG=0\n",
        "EXE=\"ACS4_DoWhile\"\n",
        "if DEBUG == 0:\n",
        "  !gfortran {EXE}.f03 -o ./{EXE}.out\n",
        "  !./{EXE}.out\n",
        "else:\n",
        "  !sudo apt install gdb\n",
        "  !gfortran {EXE}.f03 -o ./{EXE}.out -g\n",
        "  !echo \"run\" | gdb ./{EXE}.out"
      ],
      "metadata": {
        "colab": {
          "base_uri": "https://localhost:8080/"
        },
        "id": "B5j_Hj_Nw1HA",
        "outputId": "40806ed9-dd25-4c2f-967c-b65a99ee4c6d"
      },
      "execution_count": 6,
      "outputs": [
        {
          "output_type": "stream",
          "name": "stdout",
          "text": [
            " j=          55\n",
            " k=          55\n",
            " m=          30\n",
            " n=          10\n"
          ]
        }
      ]
    }
  ],
  "metadata": {
    "colab": {
      "provenance": [],
      "include_colab_link": true
    },
    "gpuClass": "standard",
    "kernelspec": {
      "display_name": "Python 3",
      "name": "python3"
    },
    "language_info": {
      "name": "python"
    }
  },
  "nbformat": 4,
  "nbformat_minor": 0
}