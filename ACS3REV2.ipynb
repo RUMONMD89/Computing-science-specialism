{
  "cells": [
    {
      "cell_type": "markdown",
      "metadata": {
        "id": "view-in-github",
        "colab_type": "text"
      },
      "source": [
        "<a href=\"https://colab.research.google.com/github/RUMONMD89/Computing-science-with-Fortran/blob/main/ACS3REV2.ipynb\" target=\"_parent\"><img src=\"https://colab.research.google.com/assets/colab-badge.svg\" alt=\"Open In Colab\"/></a>"
      ]
    },
    {
      "cell_type": "markdown",
      "source": [
        "# 3. Fortran Data Structure"
      ],
      "metadata": {
        "id": "uASSL0Q6B2B7"
      }
    },
    {
      "cell_type": "code",
      "execution_count": null,
      "metadata": {
        "colab": {
          "base_uri": "https://localhost:8080/"
        },
        "id": "06k99xeS6dkf",
        "outputId": "e0e9ceb2-bb9d-4f25-d190-653826d5ba75"
      },
      "outputs": [
        {
          "output_type": "stream",
          "name": "stdout",
          "text": [
            "Mounted at /content/drive\n",
            "/content/drive/MyDrive/FORTRAN\n"
          ]
        }
      ],
      "source": [
        "from google.colab import drive\n",
        "drive.mount('/content/drive')\n",
        "!mkdir -p /content/drive/MyDrive/FORTRAN\n",
        "%cd /content/drive/MyDrive/FORTRAN"
      ]
    },
    {
      "cell_type": "markdown",
      "source": [
        "##3-1. Fortran Array"
      ],
      "metadata": {
        "id": "bXkpXC8b42v7"
      }
    },
    {
      "cell_type": "code",
      "execution_count": null,
      "metadata": {
        "colab": {
          "base_uri": "https://localhost:8080/"
        },
        "id": "DWV4f4in7IlT",
        "outputId": "d003da67-5f9e-489e-b5ac-516fe9f56055"
      },
      "outputs": [
        {
          "output_type": "stream",
          "name": "stdout",
          "text": [
            "Overwriting ACS3_Arrray.f03\n"
          ]
        }
      ],
      "source": [
        "%%writefile ACS3_Arrray.f03\n",
        "program main\n",
        "  implicit none\n",
        "  integer, parameter :: IDIM=2, JDIM=2\n",
        "  double precision   :: as(IDIM,JDIM)\n",
        "  double precision, allocatable :: ad(:,:)\n",
        "  double precision   :: sum_ad, max_ad, min_ad\n",
        "\n",
        "  ! Static Allocated Array\n",
        "  as(:,:) = 0.0d0\n",
        "  as(1,1) = 1.0d0\n",
        "  as(1,2) = 1.0d0\n",
        "  as(2,:) = 2.0d0\n",
        "\n",
        "  write(*,*) \"as=\",as(1,:)\n",
        "  write(*,*) \"   \",as(2,:)\n",
        "\n",
        "  ! Dynamic Allocated Array\n",
        "  allocate(ad(IDIM,JDIM))\n",
        "  ad(:,:) = 0.0d0\n",
        "  ad(:,1) = 1.0d0\n",
        "  ad(:,2) = 2.0d0\n",
        "\n",
        "  write(*,*) \"ad=\",ad(1,:)\n",
        "  write(*,*) \"   \",ad(2,:)\n",
        "\n",
        "  ! Built-in Function\n",
        "  sum_ad  = sum(ad)\n",
        "  min_ad  = minval(ad)\n",
        "  max_ad  = maxval(ad)\n",
        "  write(*,*) \"sum_ad=\",sum_ad\n",
        "  write(*,*) \"min_ad=\",min_ad\n",
        "  write(*,*) \"max_ad=\",max_ad\n",
        "\n",
        "  deallocate(ad)\n",
        "\n",
        "end program main"
      ]
    },
    {
      "cell_type": "code",
      "execution_count": null,
      "metadata": {
        "colab": {
          "base_uri": "https://localhost:8080/"
        },
        "id": "unUfiabP7Rcp",
        "outputId": "25b1a4d8-2e08-4db0-8da5-ec3048b8c1ec"
      },
      "outputs": [
        {
          "output_type": "stream",
          "name": "stdout",
          "text": [
            " as=   1.0000000000000000        1.0000000000000000     \n",
            "       2.0000000000000000        2.0000000000000000     \n",
            " ad=   1.0000000000000000        2.0000000000000000     \n",
            "       1.0000000000000000        2.0000000000000000     \n",
            " sum_ad=   6.0000000000000000     \n",
            " min_ad=   1.0000000000000000     \n",
            " max_ad=   2.0000000000000000     \n"
          ]
        }
      ],
      "source": [
        "DEBUG=0\n",
        "EXE=\"ACS3_Arrray\"\n",
        "if DEBUG == 0:\n",
        "  !gfortran {EXE}.f03 -o ./{EXE}.out\n",
        "  !./{EXE}.out\n",
        "else:\n",
        "  !sudo apt install gdb\n",
        "  !gfortran {EXE}.f03 -o ./{EXE}.out -g\n",
        "  !echo \"run\" | gdb ./{EXE}.out"
      ]
    },
    {
      "cell_type": "markdown",
      "source": [
        "##3-2. Fortran Pointer"
      ],
      "metadata": {
        "id": "WDbyCcot487c"
      }
    },
    {
      "cell_type": "code",
      "source": [
        "%%writefile ACS3_Pointer.f03\n",
        "program main\n",
        "  implicit none\n",
        "  integer, pointer :: ip\n",
        "  integer, target  :: it1, it2\n",
        "\n",
        "  ! Target variables\n",
        "  it1 = 1\n",
        "  it2 = 2\n",
        "\n",
        "  ! Pointer\n",
        "  ip => it1\n",
        "  write(*,*) \"ip=\",ip\n",
        "\n",
        "  ip => it2\n",
        "  write(*,*) \"ip=\",ip\n",
        "\n",
        "end program main"
      ],
      "metadata": {
        "colab": {
          "base_uri": "https://localhost:8080/"
        },
        "id": "84HLgxhJwWrX",
        "outputId": "cf806f91-77b9-4fbd-fd55-77334e2fab7a"
      },
      "execution_count": null,
      "outputs": [
        {
          "output_type": "stream",
          "name": "stdout",
          "text": [
            "Overwriting ACS3_Pointer.f03\n"
          ]
        }
      ]
    },
    {
      "cell_type": "code",
      "source": [
        "DEBUG=0\n",
        "EXE=\"ACS3_Pointer\"\n",
        "if DEBUG == 0:\n",
        "  !gfortran {EXE}.f03 -o ./{EXE}.out\n",
        "  !./{EXE}.out\n",
        "else:\n",
        "  !sudo apt install gdb\n",
        "  !gfortran {EXE}.f03 -o ./{EXE}.out -g\n",
        "  !echo \"run\" | gdb ./{EXE}.out"
      ],
      "metadata": {
        "colab": {
          "base_uri": "https://localhost:8080/"
        },
        "id": "B5j_Hj_Nw1HA",
        "outputId": "bbc08d3e-168f-427b-d270-77ca339315e6"
      },
      "execution_count": null,
      "outputs": [
        {
          "output_type": "stream",
          "name": "stdout",
          "text": [
            " ip=           1\n",
            " ip=           2\n"
          ]
        }
      ]
    },
    {
      "cell_type": "markdown",
      "source": [
        "## 3-3. Fortran Type"
      ],
      "metadata": {
        "id": "-WzbPYoXCNHa"
      }
    },
    {
      "cell_type": "code",
      "source": [
        "%%writefile ACS3_Type.f03\n",
        "program main\n",
        "  implicit none\n",
        "  type pos\n",
        "     integer          :: ndim\n",
        "     double precision :: x, y, z\n",
        "  end type pos\n",
        "  type(pos) :: p\n",
        "\n",
        "  p%ndim = 3\n",
        "  p%x = 1.0d0\n",
        "  p%y = 2.0d0\n",
        "  p%z = 3.0d0\n",
        "\n",
        "  write(*,*) \"p%ndim=\",p%ndim\n",
        "  write(*,*) \"p%x=\",p%x,\"p%y=\",p%y,\"p%z=\",p%z\n",
        "end program main"
      ],
      "metadata": {
        "colab": {
          "base_uri": "https://localhost:8080/"
        },
        "id": "ztiTiNxKCJfA",
        "outputId": "7141f450-322f-480b-e32f-eb761a2661ae"
      },
      "execution_count": null,
      "outputs": [
        {
          "output_type": "stream",
          "name": "stdout",
          "text": [
            "Overwriting ACS3_Type.f03\n"
          ]
        }
      ]
    },
    {
      "cell_type": "code",
      "source": [
        "DEBUG=0\n",
        "EXE=\"ACS3_Type\"\n",
        "if DEBUG == 0:\n",
        "  !gfortran {EXE}.f03 -o ./{EXE}.out\n",
        "  !./{EXE}.out\n",
        "else:\n",
        "  !sudo apt install gdb\n",
        "  !gfortran {EXE}.f03 -o ./{EXE}.out -g\n",
        "  !echo \"run\" | gdb ./{EXE}.out"
      ],
      "metadata": {
        "colab": {
          "base_uri": "https://localhost:8080/"
        },
        "id": "VuATu_OhCUDG",
        "outputId": "ae010fa3-6ff2-4925-9cab-a7939741d9ae"
      },
      "execution_count": null,
      "outputs": [
        {
          "output_type": "stream",
          "name": "stdout",
          "text": [
            " p%ndim=           3\n",
            " p%x=   1.0000000000000000      p%y=   2.0000000000000000      p%z=   3.0000000000000000     \n"
          ]
        }
      ]
    }
  ],
  "metadata": {
    "colab": {
      "provenance": [],
      "include_colab_link": true
    },
    "gpuClass": "standard",
    "kernelspec": {
      "display_name": "Python 3",
      "name": "python3"
    },
    "language_info": {
      "name": "python"
    }
  },
  "nbformat": 4,
  "nbformat_minor": 0
}