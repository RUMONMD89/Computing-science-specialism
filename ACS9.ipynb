{
  "nbformat": 4,
  "nbformat_minor": 0,
  "metadata": {
    "colab": {
      "provenance": [],
      "include_colab_link": true
    },
    "kernelspec": {
      "name": "python3",
      "display_name": "Python 3"
    },
    "language_info": {
      "name": "python"
    }
  },
  "cells": [
    {
      "cell_type": "markdown",
      "metadata": {
        "id": "view-in-github",
        "colab_type": "text"
      },
      "source": [
        "<a href=\"https://colab.research.google.com/github/RUMONMD89/Computing-science-with-Fortran/blob/main/ACS9.ipynb\" target=\"_parent\"><img src=\"https://colab.research.google.com/assets/colab-badge.svg\" alt=\"Open In Colab\"/></a>"
      ]
    },
    {
      "cell_type": "code",
      "execution_count": 1,
      "metadata": {
        "id": "06k99xeS6dkf",
        "colab": {
          "base_uri": "https://localhost:8080/"
        },
        "outputId": "e9f8e7e8-388c-4f81-fe56-e9a2c614c8ad"
      },
      "outputs": [
        {
          "output_type": "stream",
          "name": "stdout",
          "text": [
            "Mounted at /content/drive\n",
            "/content/drive/MyDrive/FORTRAN\n"
          ]
        }
      ],
      "source": [
        "from google.colab import drive\n",
        "drive.mount('/content/drive')\n",
        "%cd /content/drive/MyDrive/FORTRAN"
      ]
    },
    {
      "cell_type": "code",
      "source": [
        "%%writefile ACS9.f03\n",
        "! _/_/_/ Numerical Integration _/_/_/\n",
        "! 2022.08.22 Written by Y.Hirokawa\n",
        "\n",
        "program main\n",
        "  implicit none\n",
        "  integer          :: NPOINT=10000\n",
        "  double precision :: pi, s\n",
        "\n",
        "\n",
        "  write(*,*) \"Analytical : \", atan(1.0d0)\n",
        "\n",
        "  s = func_tr(NPOINT)\n",
        "  write(*,*) \"Trapezoidal: \",s\n",
        "\n",
        "  s = func_mc(NPOINT)\n",
        "  write(*,*) \"Monte Carlo: \",s\n",
        "\n",
        "contains\n",
        "\n",
        "  function func(x)\n",
        "    double precision, intent(in) :: x\n",
        "    double precision             :: func\n",
        "\n",
        "    ! x^2 + y^2 = 1.0 (0 <=x <= 1, 0 <= y <= 1)\n",
        "    func = dsqrt(1.0d0 - x**2)\n",
        "\n",
        "  end function func\n",
        "\n",
        "\n",
        "  function func_tr(NPOINT)\n",
        "    integer, intent(in) :: NPOINT\n",
        "    double precision    :: func_tr, x1, x2, y1, y2, dx\n",
        "    integer             :: n\n",
        "\n",
        "    func_tr = 0.0d0\n",
        "    dx = 1.0d0/dble(NPOINT-1)\n",
        "    do n = 1, NPOINT-1\n",
        "      ! Increment\n",
        "      x1 = dble(n-1)*dx\n",
        "      x2 = dble(n)*dx\n",
        "\n",
        "      ! Caluculate Height of x1 and x2\n",
        "      y1 = func(x1)\n",
        "      y2 = func(x2)\n",
        "\n",
        "      ! Summation based on trapezoidal rule\n",
        "      func_tr = func_tr + dx*(y2 + y1)/2.0d0\n",
        "\n",
        "    enddo\n",
        "\n",
        "  end function func_tr\n",
        "\n",
        "\n",
        "  function func_mc(NPOINT)\n",
        "    integer, intent(in)  :: NPOINT\n",
        "    integer              :: n, nseed, np\n",
        "    integer, allocatable :: seed(:)\n",
        "    double precision     :: func_mc, pi, x(NPOINT), y(NPOINT), d, d2\n",
        "\n",
        "    ! Initialize Puseudo Random Number\n",
        "    call random_seed(size=nseed)\n",
        "    allocate(seed(nseed))\n",
        "    seed(:) = 2\n",
        "    call random_seed(put=seed)\n",
        "\n",
        "    ! Initialization\n",
        "    pi = atan(1.0d0)/4.0d0\n",
        "    np = 0\n",
        "\n",
        "    ! Generate Pseudo Random Number\n",
        "    call random_number(x)\n",
        "    call random_number(y)\n",
        "\n",
        "    ! Check the Inbound or Outbound\n",
        "    do n = 1, NPOINT\n",
        "      d2 = x(n)**2 + y(n)**2\n",
        "      d  = sqrt(d2)\n",
        "\n",
        "      if(d <= 1.0d0) then\n",
        "        np = np + 1\n",
        "      endif\n",
        "    enddo\n",
        "\n",
        "    ! Calculate\n",
        "    func_mc = dble(np)/dble(NPOINT)\n",
        "\n",
        "    deallocate(seed)\n",
        "\n",
        "  end function func_mc\n",
        "\n",
        "end program main"
      ],
      "metadata": {
        "id": "DWV4f4in7IlT",
        "colab": {
          "base_uri": "https://localhost:8080/"
        },
        "outputId": "5504dd8b-44aa-402a-94fe-06a33edb6c3f"
      },
      "execution_count": 2,
      "outputs": [
        {
          "output_type": "stream",
          "name": "stdout",
          "text": [
            "Writing ACS9.f03\n"
          ]
        }
      ]
    },
    {
      "cell_type": "code",
      "source": [
        "DEBUG=0\n",
        "EXE=\"ACS9\"\n",
        "if DEBUG == 0:\n",
        "  !gfortran {EXE}.f03 -o ./{EXE}.out\n",
        "  !./{EXE}.out\n",
        "else:\n",
        "  !sudo apt install gdb\n",
        "  !gfortran {EXE}.f03 -o ./{EXE}.out -g\n",
        "  !echo \"run\" | gdb ./{EXE}.out"
      ],
      "metadata": {
        "id": "unUfiabP7Rcp",
        "colab": {
          "base_uri": "https://localhost:8080/"
        },
        "outputId": "61814d3b-ec96-41a8-f528-ce11fafbce05"
      },
      "execution_count": 3,
      "outputs": [
        {
          "output_type": "stream",
          "name": "stdout",
          "text": [
            " Analytical :   0.78539816339744828     \n",
            " Trapezoidal:   0.78539786935873046     \n",
            " Monte Carlo:   0.79290000000000005     \n"
          ]
        }
      ]
    }
  ]
}