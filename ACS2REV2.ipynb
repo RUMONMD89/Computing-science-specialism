{
  "cells": [
    {
      "cell_type": "markdown",
      "metadata": {
        "id": "view-in-github",
        "colab_type": "text"
      },
      "source": [
        "<a href=\"https://colab.research.google.com/github/RUMONMD89/Computing-science-with-Fortran/blob/main/ACS2REV2.ipynb\" target=\"_parent\"><img src=\"https://colab.research.google.com/assets/colab-badge.svg\" alt=\"Open In Colab\"/></a>"
      ]
    },
    {
      "cell_type": "code",
      "execution_count": null,
      "metadata": {
        "colab": {
          "base_uri": "https://localhost:8080/"
        },
        "id": "06k99xeS6dkf",
        "outputId": "855dc38f-8eb0-40c3-d267-3910148f195c"
      },
      "outputs": [
        {
          "output_type": "stream",
          "name": "stdout",
          "text": [
            "Mounted at /content/drive\n",
            "/content/drive/MyDrive/FORTRAN\n"
          ]
        }
      ],
      "source": [
        "from google.colab import drive\n",
        "drive.mount('/content/drive')\n",
        "!mkdir -p /content/drive/MyDrive/FORTRAN\n",
        "%cd /content/drive/MyDrive/FORTRAN"
      ]
    },
    {
      "cell_type": "markdown",
      "source": [
        "#2-1. Fortran Arithmetic"
      ],
      "metadata": {
        "id": "bXkpXC8b42v7"
      }
    },
    {
      "cell_type": "code",
      "execution_count": null,
      "metadata": {
        "colab": {
          "base_uri": "https://localhost:8080/"
        },
        "id": "DWV4f4in7IlT",
        "outputId": "d2052688-963b-47c4-a0a4-7968c346a714"
      },
      "outputs": [
        {
          "output_type": "stream",
          "name": "stdout",
          "text": [
            "Writing ACS2_Arithmetic.f03\n"
          ]
        }
      ],
      "source": [
        "%%writefile ACS2_Arithmetic.f03\n",
        "program main\n",
        "  implicit none\n",
        "  integer(kind=4)      :: i\n",
        "  integer(kind=8)      :: id\n",
        "  real                 :: f\n",
        "  double precision     :: df\n",
        "  logical              :: l\n",
        "  complex              :: c\n",
        "  complex(kind(0.0d0)) :: dc\n",
        "  character(len=16)    :: s\n",
        "\n",
        "  i = 5\n",
        "  i = i/2 + 1\n",
        "  write(*,*) \"integer(4): i=\",i\n",
        "\n",
        "  id = 2147483648_8\n",
        "  id = id*2_8 - 100_8\n",
        "  write(*,*) \"integer(8): id=\",id\n",
        "\n",
        "  f = 1.2e3\n",
        "  f = f**2\n",
        "  write(*,*) \"real: f=\",f\n",
        "  write(*,'(1A9,1E10.2)') \" real: f=\",f\n",
        "\n",
        "  df = 1.2d300\n",
        "  write(*,*) \"double precision: df=\",df\n",
        "\n",
        "  l = .true.\n",
        "  write(*,*) \"logical: l=\",l\n",
        "\n",
        "  c = (1.0e0,2.0e0)\n",
        "  write(*,*) \"complex: c=\",c\n",
        "\n",
        "  dc = (1.0d300,2.0d300)\n",
        "  write(*,*) \"double complex: dc=\",dc\n",
        "\n",
        "  s = 'ABCDEFGHIJKLMNOP'\n",
        "  write(*,*) \"character: s=\",s\n",
        "\n",
        "end program main"
      ]
    },
    {
      "cell_type": "code",
      "execution_count": null,
      "metadata": {
        "colab": {
          "base_uri": "https://localhost:8080/"
        },
        "id": "unUfiabP7Rcp",
        "outputId": "c901f8d5-d65b-46c2-a2a9-dbecd8d931f5"
      },
      "outputs": [
        {
          "output_type": "stream",
          "name": "stdout",
          "text": [
            " integer(4): i=           3\n",
            " integer(8): id=           4294967196\n",
            " real: f=   1440000.00    \n",
            " real: f=  0.14E+07\n",
            " double precision: df=   1.2000000000000001E+300\n",
            " logical: l= T\n",
            " complex: c=             (1.00000000,2.00000000)\n",
            " double complex: dc=   (1.00000000000000005E+300,2.00000000000000011E+300)\n",
            " character: s=ABCDEFGHIJKLMNOP\n"
          ]
        }
      ],
      "source": [
        "DEBUG=0\n",
        "EXE=\"ACS2_Arithmetic\"\n",
        "if DEBUG == 0:\n",
        "  !gfortran {EXE}.f03 -o ./{EXE}.out\n",
        "  !./{EXE}.out\n",
        "else:\n",
        "  !sudo apt install gdb\n",
        "  !gfortran {EXE}.f03 -o ./{EXE}.out -g\n",
        "  !echo \"run\" | gdb ./{EXE}.out"
      ]
    },
    {
      "cell_type": "markdown",
      "source": [
        "#2-2. Fortran File I/O"
      ],
      "metadata": {
        "id": "WDbyCcot487c"
      }
    },
    {
      "cell_type": "code",
      "source": [
        "%%writefile ACS2_FileIO.f03\n",
        "program main\n",
        "  implicit none\n",
        "  double precision :: aw, bw, ar, br\n",
        "\n",
        "  aw = 0.1d0\n",
        "  bw = 1.5d3\n",
        "  ar = 0.0d0\n",
        "  br = 0.0d0\n",
        "\n",
        "! File write (ASCII)\n",
        "  open(unit=1, file=\"sample.txt\", form=\"formatted\", status=\"replace\")\n",
        "  write(1,*) aw, bw\n",
        "  call flush(1)\n",
        "  close(1)\n",
        "\n",
        "! File read (ASCII)\n",
        "  open(unit=2, file=\"sample.txt\", form=\"formatted\", status=\"old\")\n",
        "  read(2,*) ar, br\n",
        "  close(2)\n",
        "  write(*,*) \"ASCII: ar=\",ar,\" br=\",br\n",
        "\n",
        "\n",
        "! File write (BINARY)\n",
        "  open(unit=1, file=\"sample.bin\", form=\"unformatted\", access=\"stream\", status=\"replace\")\n",
        "  write(1) aw, bw\n",
        "  call flush(1)\n",
        "  close(1)\n",
        "\n",
        "! File read (BINARY)\n",
        "  open(unit=2, file=\"sample.bin\", form=\"unformatted\", access=\"stream\", status=\"old\")\n",
        "  read(2) ar, br\n",
        "  close(2)\n",
        "  write(*,*) \"BINARY: ar=\",ar,\" br=\",br\n",
        "\n",
        "end program main"
      ],
      "metadata": {
        "colab": {
          "base_uri": "https://localhost:8080/"
        },
        "id": "84HLgxhJwWrX",
        "outputId": "4ec189d7-9f8f-4f8f-b9eb-788ae495e2d6"
      },
      "execution_count": null,
      "outputs": [
        {
          "output_type": "stream",
          "name": "stdout",
          "text": [
            "Writing ACS2_FileIO.f03\n"
          ]
        }
      ]
    },
    {
      "cell_type": "code",
      "source": [
        "DEBUG=0\n",
        "EXE=\"ACS2_FileIO\"\n",
        "if DEBUG == 0:\n",
        "  !gfortran {EXE}.f03 -o ./{EXE}.out\n",
        "  !./{EXE}.out\n",
        "else:\n",
        "  !sudo apt install gdb\n",
        "  !gfortran {EXE}.f03 -o ./{EXE}.out -g\n",
        "  !echo \"run\" | gdb ./{EXE}.out"
      ],
      "metadata": {
        "colab": {
          "base_uri": "https://localhost:8080/"
        },
        "id": "B5j_Hj_Nw1HA",
        "outputId": "e0f11b59-ad93-4c45-8ceb-c35bc431d267"
      },
      "execution_count": null,
      "outputs": [
        {
          "output_type": "stream",
          "name": "stdout",
          "text": [
            " ASCII: ar=  0.10000000000000001       br=   1500.0000000000000     \n",
            " BINARY: ar=  0.10000000000000001       br=   1500.0000000000000     \n"
          ]
        }
      ]
    }
  ],
  "metadata": {
    "colab": {
      "provenance": [],
      "include_colab_link": true
    },
    "gpuClass": "standard",
    "kernelspec": {
      "display_name": "Python 3",
      "name": "python3"
    },
    "language_info": {
      "name": "python"
    }
  },
  "nbformat": 4,
  "nbformat_minor": 0
}