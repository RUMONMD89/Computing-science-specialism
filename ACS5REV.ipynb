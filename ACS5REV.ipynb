{
  "cells": [
    {
      "cell_type": "markdown",
      "metadata": {
        "id": "view-in-github",
        "colab_type": "text"
      },
      "source": [
        "<a href=\"https://colab.research.google.com/github/RUMONMD89/Computing-science-with-Fortran/blob/main/ACS5REV.ipynb\" target=\"_parent\"><img src=\"https://colab.research.google.com/assets/colab-badge.svg\" alt=\"Open In Colab\"/></a>"
      ]
    },
    {
      "cell_type": "markdown",
      "source": [
        "# 5. Fortran External Function / Recursive Function / Subroutine"
      ],
      "metadata": {
        "id": "uASSL0Q6B2B7"
      }
    },
    {
      "cell_type": "code",
      "execution_count": 1,
      "metadata": {
        "colab": {
          "base_uri": "https://localhost:8080/"
        },
        "id": "06k99xeS6dkf",
        "outputId": "b176f041-07e4-403b-b470-bd6bb74631ea"
      },
      "outputs": [
        {
          "output_type": "stream",
          "name": "stdout",
          "text": [
            "Mounted at /content/drive\n",
            "/content/drive/MyDrive/FORTRAN\n"
          ]
        }
      ],
      "source": [
        "from google.colab import drive\n",
        "drive.mount('/content/drive')\n",
        "!mkdir -p /content/drive/MyDrive/FORTRAN\n",
        "%cd /content/drive/MyDrive/FORTRAN"
      ]
    },
    {
      "cell_type": "markdown",
      "source": [
        "##5-1. Fortran External Function"
      ],
      "metadata": {
        "id": "bXkpXC8b42v7"
      }
    },
    {
      "cell_type": "code",
      "execution_count": 2,
      "metadata": {
        "colab": {
          "base_uri": "https://localhost:8080/"
        },
        "id": "DWV4f4in7IlT",
        "outputId": "4b611563-b7cc-4d19-e8d2-d5cf581e76ea"
      },
      "outputs": [
        {
          "output_type": "stream",
          "name": "stdout",
          "text": [
            "Writing ACS5_ExternalFunction.f03\n"
          ]
        }
      ],
      "source": [
        "%%writefile ACS5_ExternalFunction.f03\n",
        "program main\n",
        "  implicit none\n",
        "  integer           :: i, j\n",
        "  integer, external :: func\n",
        "\n",
        "! External Function\n",
        "  i = 1\n",
        "  j = func(i)\n",
        "  write(*,*) \"i=\",i,\"j=\",j\n",
        "\n",
        "end program main\n",
        "\n",
        "\n",
        "function func(i) result(lj)\n",
        "  integer, intent(in)  :: i\n",
        "  integer              :: lj\n",
        "  lj = 2*i\n",
        "end function func"
      ]
    },
    {
      "cell_type": "code",
      "execution_count": 3,
      "metadata": {
        "colab": {
          "base_uri": "https://localhost:8080/"
        },
        "id": "unUfiabP7Rcp",
        "outputId": "87b8b920-de81-4b62-ed90-54b01ebf8e13"
      },
      "outputs": [
        {
          "output_type": "stream",
          "name": "stdout",
          "text": [
            " i=           1 j=           2\n"
          ]
        }
      ],
      "source": [
        "DEBUG=0\n",
        "EXE=\"ACS5_ExternalFunction\"\n",
        "if DEBUG == 0:\n",
        "  !gfortran {EXE}.f03 -o ./{EXE}.out\n",
        "  !./{EXE}.out\n",
        "else:\n",
        "  !sudo apt install gdb\n",
        "  !gfortran {EXE}.f03 -o ./{EXE}.out -g\n",
        "  !echo \"run\" | gdb ./{EXE}.out"
      ]
    },
    {
      "cell_type": "markdown",
      "source": [
        "##5-2. Fortran Recursive Function"
      ],
      "metadata": {
        "id": "WDbyCcot487c"
      }
    },
    {
      "cell_type": "code",
      "source": [
        "%%writefile ACS5_RecursiveFunction.f03\n",
        "program main\n",
        "  implicit none\n",
        "  integer           :: i, j, k\n",
        "  integer, external :: rfunc\n",
        "\n",
        "! Recursive Function\n",
        "  i = 10\n",
        "  j = rfunc(i)\n",
        "  write(*,*) \"i=\",i,\"j=\",j\n",
        "\n",
        "end program main\n",
        "\n",
        "\n",
        "recursive function rfunc(i) result(lj)\n",
        "  integer :: i, lj\n",
        "  if(i <= 1) then\n",
        "     lj = 1\n",
        "  else\n",
        "     lj = rfunc(i-1) * i\n",
        "  end if\n",
        "end function rfunc"
      ],
      "metadata": {
        "colab": {
          "base_uri": "https://localhost:8080/"
        },
        "id": "84HLgxhJwWrX",
        "outputId": "3f5bc8f1-5d13-411a-849e-5fc974d6add7"
      },
      "execution_count": 4,
      "outputs": [
        {
          "output_type": "stream",
          "name": "stdout",
          "text": [
            "Writing ACS5_RecursiveFunction.f03\n"
          ]
        }
      ]
    },
    {
      "cell_type": "code",
      "source": [
        "DEBUG=0\n",
        "EXE=\"ACS5_RecursiveFunction\"\n",
        "if DEBUG == 0:\n",
        "  !gfortran {EXE}.f03 -o ./{EXE}.out\n",
        "  !./{EXE}.out\n",
        "else:\n",
        "  !sudo apt install gdb\n",
        "  !gfortran {EXE}.f03 -o ./{EXE}.out -g\n",
        "  !echo \"run\" | gdb ./{EXE}.out"
      ],
      "metadata": {
        "colab": {
          "base_uri": "https://localhost:8080/"
        },
        "id": "B5j_Hj_Nw1HA",
        "outputId": "19e615fc-6871-433a-90d6-873b51804471"
      },
      "execution_count": 5,
      "outputs": [
        {
          "output_type": "stream",
          "name": "stdout",
          "text": [
            " i=          10 j=     3628800\n"
          ]
        }
      ]
    },
    {
      "cell_type": "markdown",
      "source": [
        "##5-3. External Subroutine"
      ],
      "metadata": {
        "id": "LCJzQXz030Gv"
      }
    },
    {
      "cell_type": "code",
      "source": [
        "%%writefile ACS5_ExternalSubroutine.f03\n",
        "program main\n",
        "  implicit none\n",
        "  integer :: i, j\n",
        "\n",
        "! Subroutine\n",
        "  i = 1\n",
        "  call sub(i,j)\n",
        "  write(*,*) \"i=\",i,\"j=\",j\n",
        "\n",
        "end program main\n",
        "\n",
        "\n",
        "subroutine sub(i,j)\n",
        "  integer, intent(in)  :: i\n",
        "  integer, intent(out) :: j\n",
        "  j = 2*i\n",
        "end subroutine sub"
      ],
      "metadata": {
        "colab": {
          "base_uri": "https://localhost:8080/"
        },
        "id": "1qdgF0HB33uh",
        "outputId": "359f1b5e-8b57-43b2-e27c-0681bf402275"
      },
      "execution_count": 6,
      "outputs": [
        {
          "output_type": "stream",
          "name": "stdout",
          "text": [
            "Writing ACS5_ExternalSubroutine.f03\n"
          ]
        }
      ]
    },
    {
      "cell_type": "code",
      "source": [
        "DEBUG=0\n",
        "EXE=\"ACS5_ExternalSubroutine\"\n",
        "if DEBUG == 0:\n",
        "  !gfortran {EXE}.f03 -o ./{EXE}.out\n",
        "  !./{EXE}.out\n",
        "else:\n",
        "  !sudo apt install gdb\n",
        "  !gfortran {EXE}.f03 -o ./{EXE}.out -g\n",
        "  !echo \"run\" | gdb ./{EXE}.out"
      ],
      "metadata": {
        "colab": {
          "base_uri": "https://localhost:8080/"
        },
        "id": "5Tv5h9l54F2a",
        "outputId": "c3a130e6-3db2-49ef-d81a-74e7d6f830c5"
      },
      "execution_count": 7,
      "outputs": [
        {
          "output_type": "stream",
          "name": "stdout",
          "text": [
            " i=           1 j=           2\n"
          ]
        }
      ]
    }
  ],
  "metadata": {
    "colab": {
      "provenance": [],
      "include_colab_link": true
    },
    "gpuClass": "standard",
    "kernelspec": {
      "display_name": "Python 3",
      "name": "python3"
    },
    "language_info": {
      "name": "python"
    }
  },
  "nbformat": 4,
  "nbformat_minor": 0
}